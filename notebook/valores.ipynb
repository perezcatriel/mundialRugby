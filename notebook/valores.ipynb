{
 "cells": [
  {
   "cell_type": "markdown",
   "metadata": {},
   "source": [
    "# Valores estandard"
   ]
  },
  {
   "cell_type": "code",
   "execution_count": 49,
   "metadata": {},
   "outputs": [],
   "source": [
    "# partidos\n",
    "ganado = 2\n",
    "empatado = 1\n",
    "perdido = 0\n",
    "\n",
    "# diferencia de puntos\n",
    "diferencia_puntos = 12\n",
    "\n",
    "# campeones historicos\n",
    "historico = 1\n",
    "\n",
    "# diferencia de score. 5% entre el rango de score de los equipos participantes\n",
    "import csv\n",
    "\n",
    "def cargar_partido(archivo):\n",
    "    paises_participantes = []\n",
    "\n",
    "    with open(archivo, mode='r', newline='') as file:\n",
    "        redear = csv.DictReader(file)\n",
    "\n",
    "        for row in redear:\n",
    "            zona = row['zona']\n",
    "            pais = row['pais']\n",
    "            score = float(row['score'])\n",
    "\n",
    "            paises_participantes.append({\"zona\": zona, \"pais\": pais, \"score\":score})\n",
    "        \n",
    "        paises_ordenados = sorted(paises_participantes, key=lambda x: x['score'], reverse=True)\n",
    "        score_maximo = paises_ordenados[0]['score']\n",
    "        score_minimo = paises_ordenados[-1]['score']\n",
    "        rango = score_maximo - score_minimo\n",
    "        no_hay_diferncia = (5 * rango) / 100\n",
    "\n",
    "        return round(no_hay_diferncia, 2)\n",
    "    \n",
    "    \n",
    "\n",
    "\n",
    "\n",
    "\n"
   ]
  },
  {
   "cell_type": "code",
   "execution_count": 51,
   "metadata": {},
   "outputs": [
    {
     "name": "stdout",
     "output_type": "stream",
     "text": [
      "Si hay igual o mas de 1.57 puntos de diferencia es una diferencia a tener en cuenta\n"
     ]
    }
   ],
   "source": [
    "archivo = \"../data/paises.csv\"\n",
    "print(f\"Si hay igual o mas de {cargar_partido(archivo)} puntos de diferencia es una diferencia a tener en cuenta\")"
   ]
  }
 ],
 "metadata": {
  "kernelspec": {
   "display_name": "base",
   "language": "python",
   "name": "python3"
  },
  "language_info": {
   "codemirror_mode": {
    "name": "ipython",
    "version": 3
   },
   "file_extension": ".py",
   "mimetype": "text/x-python",
   "name": "python",
   "nbconvert_exporter": "python",
   "pygments_lexer": "ipython3",
   "version": "3.11.4"
  },
  "orig_nbformat": 4
 },
 "nbformat": 4,
 "nbformat_minor": 2
}
