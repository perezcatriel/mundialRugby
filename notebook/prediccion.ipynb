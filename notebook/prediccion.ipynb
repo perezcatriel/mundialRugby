{
 "cells": [
  {
   "cell_type": "markdown",
   "metadata": {},
   "source": [
    "# Prediccion del Mundial"
   ]
  },
  {
   "cell_type": "markdown",
   "metadata": {},
   "source": [
    "## Recopilacion de datos"
   ]
  },
  {
   "cell_type": "code",
   "execution_count": 46,
   "metadata": {},
   "outputs": [],
   "source": [
    "import pandas as pd"
   ]
  },
  {
   "cell_type": "code",
   "execution_count": 47,
   "metadata": {},
   "outputs": [],
   "source": [
    "equipos_mundialistas = pd.read_csv('../data/paises.csv')\n",
    "partidos_zona = pd.read_csv('../data/partidos.csv')"
   ]
  },
  {
   "cell_type": "code",
   "execution_count": 48,
   "metadata": {},
   "outputs": [
    {
     "data": {
      "text/html": [
       "<div>\n",
       "<style scoped>\n",
       "    .dataframe tbody tr th:only-of-type {\n",
       "        vertical-align: middle;\n",
       "    }\n",
       "\n",
       "    .dataframe tbody tr th {\n",
       "        vertical-align: top;\n",
       "    }\n",
       "\n",
       "    .dataframe thead th {\n",
       "        text-align: right;\n",
       "    }\n",
       "</style>\n",
       "<table border=\"1\" class=\"dataframe\">\n",
       "  <thead>\n",
       "    <tr style=\"text-align: right;\">\n",
       "      <th></th>\n",
       "      <th>zona</th>\n",
       "      <th>pais</th>\n",
       "      <th>score</th>\n",
       "    </tr>\n",
       "  </thead>\n",
       "  <tbody>\n",
       "    <tr>\n",
       "      <th>0</th>\n",
       "      <td>A</td>\n",
       "      <td>France</td>\n",
       "      <td>89.22</td>\n",
       "    </tr>\n",
       "    <tr>\n",
       "      <th>1</th>\n",
       "      <td>A</td>\n",
       "      <td>Italy</td>\n",
       "      <td>75.63</td>\n",
       "    </tr>\n",
       "    <tr>\n",
       "      <th>2</th>\n",
       "      <td>A</td>\n",
       "      <td>Namibia</td>\n",
       "      <td>61.61</td>\n",
       "    </tr>\n",
       "    <tr>\n",
       "      <th>3</th>\n",
       "      <td>A</td>\n",
       "      <td>Uruguay</td>\n",
       "      <td>66.63</td>\n",
       "    </tr>\n",
       "    <tr>\n",
       "      <th>4</th>\n",
       "      <td>A</td>\n",
       "      <td>New Zeland</td>\n",
       "      <td>89.06</td>\n",
       "    </tr>\n",
       "    <tr>\n",
       "      <th>5</th>\n",
       "      <td>B</td>\n",
       "      <td>Irland</td>\n",
       "      <td>91.82</td>\n",
       "    </tr>\n",
       "    <tr>\n",
       "      <th>6</th>\n",
       "      <td>B</td>\n",
       "      <td>Romania</td>\n",
       "      <td>64.56</td>\n",
       "    </tr>\n",
       "    <tr>\n",
       "      <th>7</th>\n",
       "      <td>B</td>\n",
       "      <td>Scotland</td>\n",
       "      <td>84.01</td>\n",
       "    </tr>\n",
       "    <tr>\n",
       "      <th>8</th>\n",
       "      <td>B</td>\n",
       "      <td>South Africa</td>\n",
       "      <td>91.08</td>\n",
       "    </tr>\n",
       "    <tr>\n",
       "      <th>9</th>\n",
       "      <td>B</td>\n",
       "      <td>Tonga</td>\n",
       "      <td>70.29</td>\n",
       "    </tr>\n",
       "    <tr>\n",
       "      <th>10</th>\n",
       "      <td>C</td>\n",
       "      <td>Australia</td>\n",
       "      <td>79.87</td>\n",
       "    </tr>\n",
       "    <tr>\n",
       "      <th>11</th>\n",
       "      <td>C</td>\n",
       "      <td>Fiji</td>\n",
       "      <td>80.28</td>\n",
       "    </tr>\n",
       "    <tr>\n",
       "      <th>12</th>\n",
       "      <td>C</td>\n",
       "      <td>Georgia</td>\n",
       "      <td>76.23</td>\n",
       "    </tr>\n",
       "    <tr>\n",
       "      <th>13</th>\n",
       "      <td>C</td>\n",
       "      <td>Portugal</td>\n",
       "      <td>68.61</td>\n",
       "    </tr>\n",
       "    <tr>\n",
       "      <th>14</th>\n",
       "      <td>C</td>\n",
       "      <td>Wales</td>\n",
       "      <td>78.26</td>\n",
       "    </tr>\n",
       "    <tr>\n",
       "      <th>15</th>\n",
       "      <td>D</td>\n",
       "      <td>Argentina</td>\n",
       "      <td>80.86</td>\n",
       "    </tr>\n",
       "    <tr>\n",
       "      <th>16</th>\n",
       "      <td>D</td>\n",
       "      <td>Chile</td>\n",
       "      <td>60.49</td>\n",
       "    </tr>\n",
       "    <tr>\n",
       "      <th>17</th>\n",
       "      <td>D</td>\n",
       "      <td>England</td>\n",
       "      <td>79.95</td>\n",
       "    </tr>\n",
       "    <tr>\n",
       "      <th>18</th>\n",
       "      <td>D</td>\n",
       "      <td>Japon</td>\n",
       "      <td>73.29</td>\n",
       "    </tr>\n",
       "    <tr>\n",
       "      <th>19</th>\n",
       "      <td>D</td>\n",
       "      <td>Samoa</td>\n",
       "      <td>76.19</td>\n",
       "    </tr>\n",
       "  </tbody>\n",
       "</table>\n",
       "</div>"
      ],
      "text/plain": [
       "   zona          pais  score\n",
       "0     A        France  89.22\n",
       "1     A         Italy  75.63\n",
       "2     A       Namibia  61.61\n",
       "3     A       Uruguay  66.63\n",
       "4     A    New Zeland  89.06\n",
       "5     B        Irland  91.82\n",
       "6     B       Romania  64.56\n",
       "7     B      Scotland  84.01\n",
       "8     B  South Africa  91.08\n",
       "9     B         Tonga  70.29\n",
       "10    C     Australia  79.87\n",
       "11    C          Fiji  80.28\n",
       "12    C       Georgia  76.23\n",
       "13    C      Portugal  68.61\n",
       "14    C         Wales  78.26\n",
       "15    D     Argentina  80.86\n",
       "16    D         Chile  60.49\n",
       "17    D       England  79.95\n",
       "18    D         Japon  73.29\n",
       "19    D         Samoa  76.19"
      ]
     },
     "execution_count": 48,
     "metadata": {},
     "output_type": "execute_result"
    }
   ],
   "source": [
    "equipos_mundialistas"
   ]
  },
  {
   "cell_type": "markdown",
   "metadata": {},
   "source": [
    "## Calculo del score durante el mundial"
   ]
  },
  {
   "cell_type": "code",
   "execution_count": 49,
   "metadata": {},
   "outputs": [],
   "source": [
    "GANADOR = 2\n",
    "EMPATE = 1\n",
    "GOLEADA = 1\n",
    "DESGASTE = 0.5\n",
    "DIFERENCIA_GOLEADA = 12\n",
    "RANGO_SCORE_PAREJO = 0.05\n",
    "\n",
    "scores_actualizados = equipos_mundialistas.set_index('pais').score.to_dict()\n",
    "\n",
    "for _, partido in partidos_zona.iterrows():\n",
    "    equipo_local = partido['equipo_local']\n",
    "    equipo_visitante = partido['equipo_visitante']\n",
    "    puntos_local = partido['puntos_local']\n",
    "    puntos_visitante = partido['puntos_visitante']\n",
    "\n",
    "    rango_score = (max(scores_actualizados.values()) - min(scores_actualizados.values())) * RANGO_SCORE_PAREJO\n",
    "    if abs(scores_actualizados[equipo_local] - scores_actualizados[equipo_visitante]) <= rango_score:\n",
    "        scores_actualizados[equipo_local] -= DESGASTE\n",
    "        scores_actualizados[equipo_visitante] -= DESGASTE\n",
    "\n",
    "\n",
    "    diferencia = abs(puntos_local - puntos_visitante)\n",
    "\n",
    "    if puntos_local == puntos_visitante:\n",
    "        scores_actualizados[equipo_local] += EMPATE\n",
    "        scores_actualizados[equipo_visitante] += EMPATE\n",
    "    else:\n",
    "        ganador = equipo_local if puntos_local > puntos_visitante else equipo_visitante\n",
    "        perdedor = equipo_visitante if ganador == equipo_local else equipo_local\n",
    "\n",
    "        scores_actualizados[ganador] += GANADOR\n",
    "\n",
    "        if diferencia > DIFERENCIA_GOLEADA:\n",
    "            scores_actualizados[ganador] += GOLEADA\n",
    "        \n",
    "    \n",
    "df_score_actualizados = pd.DataFrame(list(scores_actualizados.items()), columns=['pais', 'scores_actualizados'])"
   ]
  },
  {
   "cell_type": "code",
   "execution_count": 50,
   "metadata": {},
   "outputs": [
    {
     "data": {
      "text/plain": [
       "91.82"
      ]
     },
     "execution_count": 50,
     "metadata": {},
     "output_type": "execute_result"
    }
   ],
   "source": [
    "equipos_mundialistas['score'].max()"
   ]
  },
  {
   "cell_type": "code",
   "execution_count": 61,
   "metadata": {},
   "outputs": [
    {
     "name": "stdout",
     "output_type": "stream",
     "text": [
      "Lista de los equipos que pasan por zona:\n",
      "             pais  scores_actualizados zona\n",
      "0         France                90.72    A\n",
      "4     New Zeland                88.56    A\n",
      "5         Irland                94.82    B\n",
      "8   South Africa                91.08    B\n",
      "10     Australia                82.87    C\n",
      "11          Fiji                80.28    C\n",
      "17       England                82.45    D\n",
      "15     Argentina                80.36    D\n"
     ]
    }
   ],
   "source": [
    "df_scores_zona = df_score_actualizados.merge(equipos_mundialistas[['pais', 'zona']], on='pais')\n",
    "df_scores_zona = df_scores_zona.sort_values(by=['zona', 'scores_actualizados'], ascending=[True, False])\n",
    "\n",
    "# print(f\"Lista Completa de ranking en la zona de grupos:\\n {df_scores_zona}\")\n",
    "primeros_dos_por_zona = df_scores_zona.groupby('zona').head(2)\n",
    "print(f\"Lista de los equipos que pasan por zona:\\n {primeros_dos_por_zona}\")"
   ]
  },
  {
   "cell_type": "markdown",
   "metadata": {},
   "source": [
    "## Determinar los equipos que avanzan a cuartos de final"
   ]
  },
  {
   "cell_type": "markdown",
   "metadata": {},
   "source": [
    "## Simulacion de los partidos de eliminacion directa"
   ]
  },
  {
   "cell_type": "markdown",
   "metadata": {},
   "source": [
    "## Determinar el campeon"
   ]
  },
  {
   "cell_type": "markdown",
   "metadata": {},
   "source": [
    "### Conclusion"
   ]
  }
 ],
 "metadata": {
  "kernelspec": {
   "display_name": "base",
   "language": "python",
   "name": "python3"
  },
  "language_info": {
   "codemirror_mode": {
    "name": "ipython",
    "version": 3
   },
   "file_extension": ".py",
   "mimetype": "text/x-python",
   "name": "python",
   "nbconvert_exporter": "python",
   "pygments_lexer": "ipython3",
   "version": "3.11.4"
  },
  "orig_nbformat": 4
 },
 "nbformat": 4,
 "nbformat_minor": 2
}
