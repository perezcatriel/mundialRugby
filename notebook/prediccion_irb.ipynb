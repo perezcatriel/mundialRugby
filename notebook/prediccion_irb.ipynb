{
 "cells": [
  {
   "cell_type": "markdown",
   "metadata": {},
   "source": [
    "# Prediccion del mundial segun ranking IRB"
   ]
  },
  {
   "cell_type": "code",
   "execution_count": 1,
   "metadata": {},
   "outputs": [],
   "source": [
    "import pandas as pd"
   ]
  },
  {
   "cell_type": "code",
   "execution_count": 2,
   "metadata": {},
   "outputs": [
    {
     "data": {
      "text/html": [
       "<div>\n",
       "<style scoped>\n",
       "    .dataframe tbody tr th:only-of-type {\n",
       "        vertical-align: middle;\n",
       "    }\n",
       "\n",
       "    .dataframe tbody tr th {\n",
       "        vertical-align: top;\n",
       "    }\n",
       "\n",
       "    .dataframe thead th {\n",
       "        text-align: right;\n",
       "    }\n",
       "</style>\n",
       "<table border=\"1\" class=\"dataframe\">\n",
       "  <thead>\n",
       "    <tr style=\"text-align: right;\">\n",
       "      <th></th>\n",
       "      <th>zona</th>\n",
       "      <th>pais</th>\n",
       "      <th>score</th>\n",
       "    </tr>\n",
       "  </thead>\n",
       "  <tbody>\n",
       "    <tr>\n",
       "      <th>0</th>\n",
       "      <td>A</td>\n",
       "      <td>France</td>\n",
       "      <td>89.22</td>\n",
       "    </tr>\n",
       "    <tr>\n",
       "      <th>1</th>\n",
       "      <td>A</td>\n",
       "      <td>Italy</td>\n",
       "      <td>75.63</td>\n",
       "    </tr>\n",
       "    <tr>\n",
       "      <th>2</th>\n",
       "      <td>A</td>\n",
       "      <td>Namibia</td>\n",
       "      <td>61.61</td>\n",
       "    </tr>\n",
       "    <tr>\n",
       "      <th>3</th>\n",
       "      <td>A</td>\n",
       "      <td>Uruguay</td>\n",
       "      <td>66.63</td>\n",
       "    </tr>\n",
       "    <tr>\n",
       "      <th>4</th>\n",
       "      <td>A</td>\n",
       "      <td>New Zeland</td>\n",
       "      <td>89.06</td>\n",
       "    </tr>\n",
       "    <tr>\n",
       "      <th>5</th>\n",
       "      <td>B</td>\n",
       "      <td>Irland</td>\n",
       "      <td>91.82</td>\n",
       "    </tr>\n",
       "    <tr>\n",
       "      <th>6</th>\n",
       "      <td>B</td>\n",
       "      <td>Romania</td>\n",
       "      <td>64.56</td>\n",
       "    </tr>\n",
       "    <tr>\n",
       "      <th>7</th>\n",
       "      <td>B</td>\n",
       "      <td>Scotland</td>\n",
       "      <td>84.01</td>\n",
       "    </tr>\n",
       "    <tr>\n",
       "      <th>8</th>\n",
       "      <td>B</td>\n",
       "      <td>South Africa</td>\n",
       "      <td>91.08</td>\n",
       "    </tr>\n",
       "    <tr>\n",
       "      <th>9</th>\n",
       "      <td>B</td>\n",
       "      <td>Tonga</td>\n",
       "      <td>70.29</td>\n",
       "    </tr>\n",
       "    <tr>\n",
       "      <th>10</th>\n",
       "      <td>C</td>\n",
       "      <td>Australia</td>\n",
       "      <td>79.87</td>\n",
       "    </tr>\n",
       "    <tr>\n",
       "      <th>11</th>\n",
       "      <td>C</td>\n",
       "      <td>Fiji</td>\n",
       "      <td>80.28</td>\n",
       "    </tr>\n",
       "    <tr>\n",
       "      <th>12</th>\n",
       "      <td>C</td>\n",
       "      <td>Georgia</td>\n",
       "      <td>76.23</td>\n",
       "    </tr>\n",
       "    <tr>\n",
       "      <th>13</th>\n",
       "      <td>C</td>\n",
       "      <td>Portugal</td>\n",
       "      <td>68.61</td>\n",
       "    </tr>\n",
       "    <tr>\n",
       "      <th>14</th>\n",
       "      <td>C</td>\n",
       "      <td>Wales</td>\n",
       "      <td>78.26</td>\n",
       "    </tr>\n",
       "    <tr>\n",
       "      <th>15</th>\n",
       "      <td>D</td>\n",
       "      <td>Argentina</td>\n",
       "      <td>80.86</td>\n",
       "    </tr>\n",
       "    <tr>\n",
       "      <th>16</th>\n",
       "      <td>D</td>\n",
       "      <td>Chile</td>\n",
       "      <td>60.49</td>\n",
       "    </tr>\n",
       "    <tr>\n",
       "      <th>17</th>\n",
       "      <td>D</td>\n",
       "      <td>England</td>\n",
       "      <td>79.95</td>\n",
       "    </tr>\n",
       "    <tr>\n",
       "      <th>18</th>\n",
       "      <td>D</td>\n",
       "      <td>Japon</td>\n",
       "      <td>73.29</td>\n",
       "    </tr>\n",
       "    <tr>\n",
       "      <th>19</th>\n",
       "      <td>D</td>\n",
       "      <td>Samoa</td>\n",
       "      <td>76.19</td>\n",
       "    </tr>\n",
       "  </tbody>\n",
       "</table>\n",
       "</div>"
      ],
      "text/plain": [
       "   zona          pais  score\n",
       "0     A        France  89.22\n",
       "1     A         Italy  75.63\n",
       "2     A       Namibia  61.61\n",
       "3     A       Uruguay  66.63\n",
       "4     A    New Zeland  89.06\n",
       "5     B        Irland  91.82\n",
       "6     B       Romania  64.56\n",
       "7     B      Scotland  84.01\n",
       "8     B  South Africa  91.08\n",
       "9     B         Tonga  70.29\n",
       "10    C     Australia  79.87\n",
       "11    C          Fiji  80.28\n",
       "12    C       Georgia  76.23\n",
       "13    C      Portugal  68.61\n",
       "14    C         Wales  78.26\n",
       "15    D     Argentina  80.86\n",
       "16    D         Chile  60.49\n",
       "17    D       England  79.95\n",
       "18    D         Japon  73.29\n",
       "19    D         Samoa  76.19"
      ]
     },
     "execution_count": 2,
     "metadata": {},
     "output_type": "execute_result"
    }
   ],
   "source": [
    "df = pd.read_csv(\"../data/paises.csv\")\n",
    "df"
   ]
  },
  {
   "cell_type": "code",
   "execution_count": 3,
   "metadata": {},
   "outputs": [],
   "source": [
    "# mejores por grupo\n",
    "mejores_por_grupo = df.sort_values(by=[\"zona\", \"score\"], ascending=[True, False]).groupby(\"zona\").head(2)"
   ]
  },
  {
   "cell_type": "markdown",
   "metadata": {},
   "source": [
    "## Cuartos de Final"
   ]
  },
  {
   "cell_type": "code",
   "execution_count": 4,
   "metadata": {},
   "outputs": [],
   "source": [
    "cuartos = [\n",
    "    (mejores_por_grupo[mejores_por_grupo[\"zona\"] == \"C\"].iloc[0], mejores_por_grupo[mejores_por_grupo[\"zona\"] == \"D\"].iloc[1]),\n",
    "    (mejores_por_grupo[mejores_por_grupo[\"zona\"] == \"B\"].iloc[0], mejores_por_grupo[mejores_por_grupo[\"zona\"] == \"A\"].iloc[1]),\n",
    "    (mejores_por_grupo[mejores_por_grupo[\"zona\"] == \"D\"].iloc[0], mejores_por_grupo[mejores_por_grupo[\"zona\"] == \"C\"].iloc[1]),\n",
    "    (mejores_por_grupo[mejores_por_grupo[\"zona\"] == \"A\"].iloc[0], mejores_por_grupo[mejores_por_grupo[\"zona\"] == \"B\"].iloc[1]),\n",
    "]"
   ]
  },
  {
   "cell_type": "code",
   "execution_count": 5,
   "metadata": {},
   "outputs": [],
   "source": [
    "def simular_partido(equipo1, equipo2):\n",
    "    if equipo1[\"score\"] > equipo2[\"score\"]:\n",
    "        return equipo1\n",
    "    else:\n",
    "        return equipo2\n",
    "    \n",
    "ganadores_cuartos = []\n",
    "\n",
    "for partido in cuartos:\n",
    "    ganador = simular_partido(partido[0], partido[1])\n",
    "    ganadores_cuartos.append(ganador)"
   ]
  },
  {
   "cell_type": "code",
   "execution_count": 6,
   "metadata": {},
   "outputs": [
    {
     "name": "stdout",
     "output_type": "stream",
     "text": [
      "Cuartos de Final:\n",
      "------------------------------\n",
      "Fiji (80.28) vs England 79.95) => Ganador: Fiji\n",
      "Irland (91.82) vs New Zeland 89.06) => Ganador: Irland\n",
      "Argentina (80.86) vs Australia 79.87) => Ganador: Argentina\n",
      "France (89.22) vs South Africa 91.08) => Ganador: South Africa\n"
     ]
    }
   ],
   "source": [
    "print(\"Cuartos de Final:\")\n",
    "print(\"-\" * 30)\n",
    "for i, partido in enumerate(cuartos):\n",
    "    equipo_ganador = ganadores_cuartos[i]\n",
    "    print(f\"{partido[0]['pais']} ({partido[0]['score']}) vs {partido[1]['pais']} {partido[1]['score']}) => Ganador: {equipo_ganador['pais']}\")"
   ]
  },
  {
   "cell_type": "markdown",
   "metadata": {},
   "source": [
    "## Semifinal"
   ]
  },
  {
   "cell_type": "code",
   "execution_count": 7,
   "metadata": {},
   "outputs": [],
   "source": [
    "semifinales = [\n",
    "    (ganadores_cuartos[0], ganadores_cuartos[1]),\n",
    "    (ganadores_cuartos[2], ganadores_cuartos[3])\n",
    "]\n",
    "\n",
    "ganadores_semifinales = []\n",
    "\n",
    "for partido in semifinales:\n",
    "    ganador = simular_partido(partido[0], partido[1])\n",
    "    ganadores_semifinales.append(ganador)"
   ]
  },
  {
   "cell_type": "markdown",
   "metadata": {},
   "source": [
    "## Tercer Puesto"
   ]
  },
  {
   "cell_type": "code",
   "execution_count": 8,
   "metadata": {},
   "outputs": [],
   "source": [
    "perdedores_semifinal = [equipo for equipo in ganadores_cuartos if equipo['pais'] not in [ganador['pais'] for ganador in ganadores_semifinales]]\n",
    "tercer_puesto = (perdedores_semifinal[0], perdedores_semifinal[1])\n",
    "\n",
    "ganador_tercer_puesto = simular_partido(tercer_puesto[0], tercer_puesto[1])"
   ]
  },
  {
   "cell_type": "code",
   "execution_count": 11,
   "metadata": {},
   "outputs": [
    {
     "name": "stdout",
     "output_type": "stream",
     "text": [
      "Tercer Puesto\n",
      "------------------------------\n",
      "Argentina\n"
     ]
    }
   ],
   "source": [
    "print(\"Tercer Puesto\")\n",
    "print(\"-\" * 30)\n",
    "print(ganador_tercer_puesto['pais'])"
   ]
  },
  {
   "cell_type": "markdown",
   "metadata": {},
   "source": [
    "## Ganador del mundial"
   ]
  },
  {
   "cell_type": "code",
   "execution_count": 20,
   "metadata": {},
   "outputs": [
    {
     "name": "stdout",
     "output_type": "stream",
     "text": [
      "Irland\n"
     ]
    }
   ],
   "source": [
    "final = (ganadores_semifinales[0], ganadores_semifinales[1])\n",
    "\n",
    "campeon = simular_partido(final[0], final[1])\n",
    "\n",
    "print(final[0]['pais'])"
   ]
  },
  {
   "cell_type": "code",
   "execution_count": 24,
   "metadata": {},
   "outputs": [
    {
     "name": "stdout",
     "output_type": "stream",
     "text": [
      "Campeon de Rugby del Mundo 2023\n",
      "------------------------------\n",
      "Irland\n",
      "\n",
      "Segundo puesto\n",
      "------------------------------\n",
      "South Africa\n"
     ]
    }
   ],
   "source": [
    "separador = \"-\" * 30\n",
    "\n",
    "print(\"Campeon de Rugby del Mundo 2023\")\n",
    "print(separador)\n",
    "print(campeon['pais'])\n",
    "print()\n",
    "print(\"Segundo puesto\")\n",
    "print(separador)\n",
    "print(final[1]['pais'] if final[0]['pais'] == campeon['pais'] else final[0]['pais'])"
   ]
  },
  {
   "cell_type": "markdown",
   "metadata": {},
   "source": [
    "> Conclusion: Si solo tomamos en cuenta el ranking de IRB para definir quien gana y el fixture del mundial para ver como se enfrentan los equipos. el campeon sera Irlanda(1 IRB) ganandole a Sudafrica(2 IRB) en la final. y Argentina(6 IRB) tercero ganandole a Fiji(7 IRB)."
   ]
  }
 ],
 "metadata": {
  "kernelspec": {
   "display_name": "base",
   "language": "python",
   "name": "python3"
  },
  "language_info": {
   "codemirror_mode": {
    "name": "ipython",
    "version": 3
   },
   "file_extension": ".py",
   "mimetype": "text/x-python",
   "name": "python",
   "nbconvert_exporter": "python",
   "pygments_lexer": "ipython3",
   "version": "3.11.4"
  },
  "orig_nbformat": 4
 },
 "nbformat": 4,
 "nbformat_minor": 2
}
