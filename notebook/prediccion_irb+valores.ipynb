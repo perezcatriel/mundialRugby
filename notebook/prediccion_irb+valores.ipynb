{
 "cells": [
  {
   "cell_type": "markdown",
   "metadata": {},
   "source": [
    "# Prediccion del Campeon de Rugby del Mundo teniendo en cuenta el score de la IRB pero ademas segun los resultados de la primer zona y pesos personalizados para ajustar mas el posible Campeon."
   ]
  },
  {
   "cell_type": "code",
   "execution_count": 98,
   "metadata": {},
   "outputs": [],
   "source": [
    "import pandas as pd"
   ]
  },
  {
   "cell_type": "code",
   "execution_count": 99,
   "metadata": {},
   "outputs": [],
   "source": [
    "data_paises = pd.read_csv(\"../data/paises.csv\")\n",
    "data_partidos = pd.read_csv(\"../data/partidos.csv\")"
   ]
  },
  {
   "cell_type": "code",
   "execution_count": 100,
   "metadata": {},
   "outputs": [
    {
     "data": {
      "text/html": [
       "<div>\n",
       "<style scoped>\n",
       "    .dataframe tbody tr th:only-of-type {\n",
       "        vertical-align: middle;\n",
       "    }\n",
       "\n",
       "    .dataframe tbody tr th {\n",
       "        vertical-align: top;\n",
       "    }\n",
       "\n",
       "    .dataframe thead th {\n",
       "        text-align: right;\n",
       "    }\n",
       "</style>\n",
       "<table border=\"1\" class=\"dataframe\">\n",
       "  <thead>\n",
       "    <tr style=\"text-align: right;\">\n",
       "      <th></th>\n",
       "      <th>zona</th>\n",
       "      <th>pais</th>\n",
       "      <th>score</th>\n",
       "    </tr>\n",
       "  </thead>\n",
       "  <tbody>\n",
       "    <tr>\n",
       "      <th>0</th>\n",
       "      <td>A</td>\n",
       "      <td>France</td>\n",
       "      <td>89.22</td>\n",
       "    </tr>\n",
       "    <tr>\n",
       "      <th>1</th>\n",
       "      <td>A</td>\n",
       "      <td>Italy</td>\n",
       "      <td>75.63</td>\n",
       "    </tr>\n",
       "    <tr>\n",
       "      <th>2</th>\n",
       "      <td>A</td>\n",
       "      <td>Namibia</td>\n",
       "      <td>61.61</td>\n",
       "    </tr>\n",
       "    <tr>\n",
       "      <th>3</th>\n",
       "      <td>A</td>\n",
       "      <td>Uruguay</td>\n",
       "      <td>66.63</td>\n",
       "    </tr>\n",
       "    <tr>\n",
       "      <th>4</th>\n",
       "      <td>A</td>\n",
       "      <td>New Zeland</td>\n",
       "      <td>89.06</td>\n",
       "    </tr>\n",
       "    <tr>\n",
       "      <th>5</th>\n",
       "      <td>B</td>\n",
       "      <td>Irland</td>\n",
       "      <td>91.82</td>\n",
       "    </tr>\n",
       "    <tr>\n",
       "      <th>6</th>\n",
       "      <td>B</td>\n",
       "      <td>Romania</td>\n",
       "      <td>64.56</td>\n",
       "    </tr>\n",
       "    <tr>\n",
       "      <th>7</th>\n",
       "      <td>B</td>\n",
       "      <td>Scotland</td>\n",
       "      <td>84.01</td>\n",
       "    </tr>\n",
       "    <tr>\n",
       "      <th>8</th>\n",
       "      <td>B</td>\n",
       "      <td>South Africa</td>\n",
       "      <td>91.08</td>\n",
       "    </tr>\n",
       "    <tr>\n",
       "      <th>9</th>\n",
       "      <td>B</td>\n",
       "      <td>Tonga</td>\n",
       "      <td>70.29</td>\n",
       "    </tr>\n",
       "    <tr>\n",
       "      <th>10</th>\n",
       "      <td>C</td>\n",
       "      <td>Australia</td>\n",
       "      <td>79.87</td>\n",
       "    </tr>\n",
       "    <tr>\n",
       "      <th>11</th>\n",
       "      <td>C</td>\n",
       "      <td>Fiji</td>\n",
       "      <td>80.28</td>\n",
       "    </tr>\n",
       "    <tr>\n",
       "      <th>12</th>\n",
       "      <td>C</td>\n",
       "      <td>Georgia</td>\n",
       "      <td>76.23</td>\n",
       "    </tr>\n",
       "    <tr>\n",
       "      <th>13</th>\n",
       "      <td>C</td>\n",
       "      <td>Portugal</td>\n",
       "      <td>68.61</td>\n",
       "    </tr>\n",
       "    <tr>\n",
       "      <th>14</th>\n",
       "      <td>C</td>\n",
       "      <td>Wales</td>\n",
       "      <td>78.26</td>\n",
       "    </tr>\n",
       "    <tr>\n",
       "      <th>15</th>\n",
       "      <td>D</td>\n",
       "      <td>Argentina</td>\n",
       "      <td>80.86</td>\n",
       "    </tr>\n",
       "    <tr>\n",
       "      <th>16</th>\n",
       "      <td>D</td>\n",
       "      <td>Chile</td>\n",
       "      <td>60.49</td>\n",
       "    </tr>\n",
       "    <tr>\n",
       "      <th>17</th>\n",
       "      <td>D</td>\n",
       "      <td>England</td>\n",
       "      <td>79.95</td>\n",
       "    </tr>\n",
       "    <tr>\n",
       "      <th>18</th>\n",
       "      <td>D</td>\n",
       "      <td>Japon</td>\n",
       "      <td>73.29</td>\n",
       "    </tr>\n",
       "    <tr>\n",
       "      <th>19</th>\n",
       "      <td>D</td>\n",
       "      <td>Samoa</td>\n",
       "      <td>76.19</td>\n",
       "    </tr>\n",
       "  </tbody>\n",
       "</table>\n",
       "</div>"
      ],
      "text/plain": [
       "   zona          pais  score\n",
       "0     A        France  89.22\n",
       "1     A         Italy  75.63\n",
       "2     A       Namibia  61.61\n",
       "3     A       Uruguay  66.63\n",
       "4     A    New Zeland  89.06\n",
       "5     B        Irland  91.82\n",
       "6     B       Romania  64.56\n",
       "7     B      Scotland  84.01\n",
       "8     B  South Africa  91.08\n",
       "9     B         Tonga  70.29\n",
       "10    C     Australia  79.87\n",
       "11    C          Fiji  80.28\n",
       "12    C       Georgia  76.23\n",
       "13    C      Portugal  68.61\n",
       "14    C         Wales  78.26\n",
       "15    D     Argentina  80.86\n",
       "16    D         Chile  60.49\n",
       "17    D       England  79.95\n",
       "18    D         Japon  73.29\n",
       "19    D         Samoa  76.19"
      ]
     },
     "execution_count": 100,
     "metadata": {},
     "output_type": "execute_result"
    }
   ],
   "source": [
    "data_paises"
   ]
  },
  {
   "cell_type": "code",
   "execution_count": 101,
   "metadata": {},
   "outputs": [
    {
     "data": {
      "text/html": [
       "<div>\n",
       "<style scoped>\n",
       "    .dataframe tbody tr th:only-of-type {\n",
       "        vertical-align: middle;\n",
       "    }\n",
       "\n",
       "    .dataframe tbody tr th {\n",
       "        vertical-align: top;\n",
       "    }\n",
       "\n",
       "    .dataframe thead th {\n",
       "        text-align: right;\n",
       "    }\n",
       "</style>\n",
       "<table border=\"1\" class=\"dataframe\">\n",
       "  <thead>\n",
       "    <tr style=\"text-align: right;\">\n",
       "      <th></th>\n",
       "      <th>ID</th>\n",
       "      <th>equipo_local</th>\n",
       "      <th>equipo_visitante</th>\n",
       "      <th>puntos_local</th>\n",
       "      <th>puntos_visitante</th>\n",
       "      <th>fecha</th>\n",
       "      <th>zona</th>\n",
       "    </tr>\n",
       "  </thead>\n",
       "  <tbody>\n",
       "    <tr>\n",
       "      <th>0</th>\n",
       "      <td>1</td>\n",
       "      <td>France</td>\n",
       "      <td>New Zeland</td>\n",
       "      <td>23</td>\n",
       "      <td>13</td>\n",
       "      <td>08/10/2023</td>\n",
       "      <td>A</td>\n",
       "    </tr>\n",
       "    <tr>\n",
       "      <th>1</th>\n",
       "      <td>2</td>\n",
       "      <td>Italy</td>\n",
       "      <td>Namibia</td>\n",
       "      <td>52</td>\n",
       "      <td>8</td>\n",
       "      <td>09/10/2023</td>\n",
       "      <td>A</td>\n",
       "    </tr>\n",
       "    <tr>\n",
       "      <th>2</th>\n",
       "      <td>3</td>\n",
       "      <td>Irland</td>\n",
       "      <td>Romania</td>\n",
       "      <td>82</td>\n",
       "      <td>8</td>\n",
       "      <td>09/10/2023</td>\n",
       "      <td>B</td>\n",
       "    </tr>\n",
       "    <tr>\n",
       "      <th>3</th>\n",
       "      <td>4</td>\n",
       "      <td>Australia</td>\n",
       "      <td>Georgia</td>\n",
       "      <td>35</td>\n",
       "      <td>15</td>\n",
       "      <td>09/10/2023</td>\n",
       "      <td>C</td>\n",
       "    </tr>\n",
       "    <tr>\n",
       "      <th>4</th>\n",
       "      <td>5</td>\n",
       "      <td>England</td>\n",
       "      <td>Argentina</td>\n",
       "      <td>27</td>\n",
       "      <td>10</td>\n",
       "      <td>09/10/2023</td>\n",
       "      <td>D</td>\n",
       "    </tr>\n",
       "  </tbody>\n",
       "</table>\n",
       "</div>"
      ],
      "text/plain": [
       "   ID equipo_local equipo_visitante  puntos_local  puntos_visitante  \\\n",
       "0   1       France       New Zeland            23                13   \n",
       "1   2        Italy          Namibia            52                 8   \n",
       "2   3       Irland          Romania            82                 8   \n",
       "3   4    Australia          Georgia            35                15   \n",
       "4   5      England        Argentina            27                10   \n",
       "\n",
       "        fecha zona  \n",
       "0  08/10/2023    A  \n",
       "1  09/10/2023    A  \n",
       "2  09/10/2023    B  \n",
       "3  09/10/2023    C  \n",
       "4  09/10/2023    D  "
      ]
     },
     "execution_count": 101,
     "metadata": {},
     "output_type": "execute_result"
    }
   ],
   "source": [
    "data_partidos"
   ]
  },
  {
   "cell_type": "code",
   "execution_count": 102,
   "metadata": {},
   "outputs": [],
   "source": [
    "# paises historicos\n",
    "paises_historicos = [\n",
    "    \"New Zeland\", \"South Africa\", \"France\", \"Australia\", \"England\"\n",
    "]\n",
    "\n",
    "max_score = data_paises['score'].max()\n",
    "min_score = data_paises['score'].min()\n",
    "\n",
    "threshold = (max_score - min_score) * 0.05"
   ]
  },
  {
   "cell_type": "code",
   "execution_count": 103,
   "metadata": {},
   "outputs": [
    {
     "name": "stdout",
     "output_type": "stream",
     "text": [
      "max: 91.82; min: 60.49; threshold: 1.57\n"
     ]
    }
   ],
   "source": [
    "print(f\"max: {max_score}; min: {min_score}; threshold: {round(threshold, 2)}\")"
   ]
  },
  {
   "cell_type": "code",
   "execution_count": 104,
   "metadata": {},
   "outputs": [],
   "source": [
    "def calcular_puntos(resultado, diferencia_puntos, es_equipo_historico, diferencia_score_oponente, score_irb):\n",
    "    puntos = 0\n",
    "    \n",
    "    # Añadir puntos según el resultado\n",
    "    if resultado == 'ganado':\n",
    "        puntos += 2\n",
    "        if diferencia_puntos > 12:\n",
    "            puntos += 1\n",
    "    elif resultado == 'perdido':\n",
    "        puntos -= 1\n",
    "    \n",
    "    # Añadir puntos si es un equipo histórico\n",
    "    if es_equipo_historico:\n",
    "        puntos += 1\n",
    "            \n",
    "    return puntos\n",
    "\n"
   ]
  },
  {
   "cell_type": "code",
   "execution_count": 105,
   "metadata": {},
   "outputs": [],
   "source": [
    "def es_equipo_historico(equipo):\n",
    "    # Suponiendo que equipos como 'Irland', 'England', 'New Zeland' son históricos\n",
    "    return equipo['pais'] in ['Irland', 'England', 'New Zeland']\n"
   ]
  },
  {
   "cell_type": "code",
   "execution_count": 106,
   "metadata": {},
   "outputs": [
    {
     "name": "stdout",
     "output_type": "stream",
     "text": [
      "Procesando el partido: France vs. New Zeland\n",
      "Diferencia de puntos: 10\n",
      "Es France un equipo histórico? True\n",
      "Es New Zeland un equipo histórico? True\n",
      "Score de France antes de actualizar: 89.22\n",
      "Score de New Zeland antes de actualizar: 89.06\n",
      "Score de France después de actualizar: 91.72\n",
      "Score de New Zeland después de actualizar: 88.56\n",
      "Procesando el partido: Italy vs. Namibia\n",
      "Diferencia de puntos: 44\n",
      "Es Italy un equipo histórico? False\n",
      "Es Namibia un equipo histórico? False\n",
      "Score de Italy antes de actualizar: 75.63\n",
      "Score de Namibia antes de actualizar: 61.61\n",
      "Score de Italy después de actualizar: 78.63\n",
      "Score de Namibia después de actualizar: 60.61\n",
      "Procesando el partido: Irland vs. Romania\n",
      "Diferencia de puntos: 74\n",
      "Es Irland un equipo histórico? False\n",
      "Es Romania un equipo histórico? False\n",
      "Score de Irland antes de actualizar: 91.82\n",
      "Score de Romania antes de actualizar: 64.56\n",
      "Score de Irland después de actualizar: 94.82\n",
      "Score de Romania después de actualizar: 63.56\n",
      "Procesando el partido: Australia vs. Georgia\n",
      "Diferencia de puntos: 20\n",
      "Es Australia un equipo histórico? True\n",
      "Es Georgia un equipo histórico? False\n",
      "Score de Australia antes de actualizar: 79.87\n",
      "Score de Georgia antes de actualizar: 76.23\n",
      "Score de Australia después de actualizar: 83.87\n",
      "Score de Georgia después de actualizar: 75.23\n",
      "Procesando el partido: England vs. Argentina\n",
      "Diferencia de puntos: 17\n",
      "Es England un equipo histórico? True\n",
      "Es Argentina un equipo histórico? False\n",
      "Score de England antes de actualizar: 79.95\n",
      "Score de Argentina antes de actualizar: 80.86\n",
      "Score de England después de actualizar: 83.45\n",
      "Score de Argentina después de actualizar: 79.36\n"
     ]
    }
   ],
   "source": [
    "for index, row in data_partidos.iterrows():\n",
    "    equipo_local = row['equipo_local']\n",
    "    equipo_visitante = row['equipo_visitante']\n",
    "\n",
    "    print(f\"Procesando el partido: {equipo_local} vs. {equipo_visitante}\")\n",
    "\n",
    "    diferencia_puntos = row['puntos_local'] - row['puntos_visitante']\n",
    "    print(f\"Diferencia de puntos: {diferencia_puntos}\")\n",
    "\n",
    "    if diferencia_puntos > 0:\n",
    "        resultado_local = 'ganado'\n",
    "        resultado_visitante = 'perdido'\n",
    "    elif diferencia_puntos < 0:\n",
    "        resultado_local = 'perdido'\n",
    "        resultado_visitante = 'ganado'\n",
    "    else:\n",
    "        resultado_local = 'empatado'\n",
    "        resultado_visitante = 'empatado'\n",
    "\n",
    "    es_equipo_historico_local = equipo_local in paises_historicos\n",
    "    es_equipo_historico_visitante = equipo_visitante in paises_historicos\n",
    "    print(f\"Es {equipo_local} un equipo histórico? {es_equipo_historico_local}\")\n",
    "    print(f\"Es {equipo_visitante} un equipo histórico? {es_equipo_historico_visitante}\")\n",
    "\n",
    "    score_irb_local = data_paises[data_paises['pais'] == equipo_local]['score'].iloc[0]\n",
    "    score_irb_visitante = data_paises[data_paises['pais'] == equipo_visitante]['score'].iloc[0]\n",
    "\n",
    "    puntos_local = calcular_puntos(resultado_local, diferencia_puntos, es_equipo_historico_local, score_irb_local - score_irb_visitante, score_irb_local)\n",
    "    puntos_visitante = calcular_puntos(resultado_visitante, -diferencia_puntos, es_equipo_historico_visitante, score_irb_visitante - score_irb_local, score_irb_visitante)\n",
    "\n",
    "    # Definir desgaste basado en la diferencia de scores y no en el resultado del partido.\n",
    "    desgaste_local = 0.5 if abs(score_irb_local - score_irb_visitante) < threshold else 0\n",
    "    desgaste_visitante = 0.5 if abs(score_irb_visitante - score_irb_local) < threshold else 0\n",
    "\n",
    "    indice_local = data_paises[data_paises['pais'] == equipo_local].index[0]\n",
    "    score_anterior_local = data_paises.at[indice_local, 'score']\n",
    "    nuevo_score_local = score_anterior_local + puntos_local - desgaste_local\n",
    "    data_paises.at[indice_local, 'score'] = nuevo_score_local\n",
    "\n",
    "    indice_visitante = data_paises[data_paises['pais'] == equipo_visitante].index[0]\n",
    "    score_anterior_visitante = data_paises.at[indice_visitante, 'score']\n",
    "    nuevo_score_visitante = score_anterior_visitante + puntos_visitante - desgaste_visitante\n",
    "    data_paises.at[indice_visitante, 'score'] = nuevo_score_visitante\n",
    "\n",
    "    print(f\"Score de {equipo_local} antes de actualizar: {score_anterior_local}\")\n",
    "    print(f\"Score de {equipo_visitante} antes de actualizar: {score_anterior_visitante}\")\n",
    "    print(f\"Score de {equipo_local} después de actualizar: {nuevo_score_local}\")\n",
    "    print(f\"Score de {equipo_visitante} después de actualizar: {nuevo_score_visitante}\")\n",
    "\n",
    "equipo_ganador = data_paises.sort_values(by='score', ascending=False).iloc[0]\n"
   ]
  },
  {
   "cell_type": "code",
   "execution_count": 107,
   "metadata": {},
   "outputs": [
    {
     "name": "stdout",
     "output_type": "stream",
     "text": [
      "El Equipo predicto para ganar es: Irland\n"
     ]
    }
   ],
   "source": [
    "print(f\"El Equipo predicto para ganar es: {equipo_ganador['pais']}\")"
   ]
  },
  {
   "cell_type": "code",
   "execution_count": 108,
   "metadata": {},
   "outputs": [
    {
     "name": "stdout",
     "output_type": "stream",
     "text": [
      "\n",
      "Clasificación final:\n",
      "1. Irland: 94.82\n",
      "2. France: 91.72\n",
      "3. South Africa: 91.08\n",
      "4. New Zeland: 88.56\n",
      "5. Scotland: 84.01\n",
      "6. Australia: 83.87\n",
      "7. England: 83.45\n",
      "8. Fiji: 80.28\n",
      "9. Argentina: 79.36\n",
      "10. Italy: 78.63\n",
      "11. Wales: 78.26\n",
      "12. Samoa: 76.19\n",
      "13. Georgia: 75.23\n",
      "14. Japon: 73.29\n",
      "15. Tonga: 70.29\n",
      "16. Portugal: 68.61\n",
      "17. Uruguay: 66.63\n",
      "18. Romania: 63.56\n",
      "19. Namibia: 60.61\n",
      "20. Chile: 60.49\n"
     ]
    }
   ],
   "source": [
    "# Ordenar los equipos por su score final de manera descendente\n",
    "equipos_ordenados = data_paises.sort_values(by='score', ascending=False).reset_index(drop=True)\n",
    "\n",
    "# Imprimir la lista de equipos en orden\n",
    "print(\"\\nClasificación final:\")\n",
    "for index, equipo in equipos_ordenados.iterrows():\n",
    "    print(f\"{index + 1}. {equipo['pais']}: {equipo['score']}\")"
   ]
  },
  {
   "cell_type": "code",
   "execution_count": 109,
   "metadata": {},
   "outputs": [
    {
     "name": "stdout",
     "output_type": "stream",
     "text": [
      "   zona          pais  score\n",
      "0     A        France  91.72\n",
      "4     A    New Zeland  88.56\n",
      "5     B        Irland  94.82\n",
      "8     B  South Africa  91.08\n",
      "10    C     Australia  83.87\n",
      "11    C          Fiji  80.28\n",
      "17    D       England  83.45\n",
      "15    D     Argentina  79.36\n"
     ]
    }
   ],
   "source": [
    "mejores_por_grupo = data_paises.sort_values(by=[\"zona\", \"score\"], ascending=[True, False]).groupby(\"zona\").head(2)\n",
    "print(mejores_por_grupo)\n"
   ]
  },
  {
   "cell_type": "code",
   "execution_count": 110,
   "metadata": {},
   "outputs": [],
   "source": [
    "cuartos = [\n",
    "    (mejores_por_grupo[mejores_por_grupo[\"zona\"] == \"C\"].iloc[0], mejores_por_grupo[mejores_por_grupo[\"zona\"] == \"D\"].iloc[1]),\n",
    "    (mejores_por_grupo[mejores_por_grupo[\"zona\"] == \"B\"].iloc[0], mejores_por_grupo[mejores_por_grupo[\"zona\"] == \"A\"].iloc[1]),\n",
    "    (mejores_por_grupo[mejores_por_grupo[\"zona\"] == \"D\"].iloc[0], mejores_por_grupo[mejores_por_grupo[\"zona\"] == \"C\"].iloc[1]),\n",
    "    (mejores_por_grupo[mejores_por_grupo[\"zona\"] == \"A\"].iloc[0], mejores_por_grupo[mejores_por_grupo[\"zona\"] == \"B\"].iloc[1]),\n",
    "]"
   ]
  },
  {
   "cell_type": "code",
   "execution_count": 111,
   "metadata": {},
   "outputs": [],
   "source": [
    "def es_equipo_historico(equipo):\n",
    "    # Suponiendo que equipos como 'Irland', 'England', 'New Zeland' son históricos\n",
    "    return equipo['pais'] in paises_historicos"
   ]
  },
  {
   "cell_type": "code",
   "execution_count": 112,
   "metadata": {},
   "outputs": [],
   "source": [
    "def simular_partido(equipo1, equipo2):\n",
    "    if equipo1[\"score\"] > equipo2[\"score\"]:\n",
    "        return equipo1\n",
    "    else:\n",
    "        return equipo2\n",
    "    \n",
    "ganadores_cuartos = []\n",
    "\n",
    "for partido in cuartos:\n",
    "    equipo1, equipo2 = partido\n",
    "    \n",
    "    # Determina la diferencia de puntos (score)\n",
    "    diferencia_puntos_equipo1 = equipo1[\"score\"] - equipo2[\"score\"]\n",
    "    diferencia_puntos_equipo2 = -diferencia_puntos_equipo1  # Es la diferencia inversa para el segundo equipo\n",
    "    \n",
    "    # Determina el resultado\n",
    "    if diferencia_puntos_equipo1 > 0:\n",
    "        resultado_equipo1 = 'ganado'\n",
    "        resultado_equipo2 = 'perdido'\n",
    "    else:\n",
    "        resultado_equipo1 = 'perdido'\n",
    "        resultado_equipo2 = 'ganado'\n",
    "    \n",
    "    # Determina si el equipo es histórico\n",
    "    es_historico_equipo1 = es_equipo_historico(equipo1)\n",
    "    es_historico_equipo2 = es_equipo_historico(equipo2)\n",
    "    \n",
    "    # Calcular puntos adicionales\n",
    "    puntos_adicionales_equipo1 = calcular_puntos(resultado_equipo1, diferencia_puntos_equipo1, es_historico_equipo1, diferencia_puntos_equipo1, equipo1[\"score\"])\n",
    "    puntos_adicionales_equipo2 = calcular_puntos(resultado_equipo2, diferencia_puntos_equipo2, es_historico_equipo2, diferencia_puntos_equipo2, equipo2[\"score\"])\n",
    "    \n",
    "    # Modificar scores\n",
    "    equipo1[\"score\"] += puntos_adicionales_equipo1\n",
    "    equipo2[\"score\"] += puntos_adicionales_equipo2\n",
    "    \n",
    "    # Simular partido\n",
    "    ganador = simular_partido(equipo1, equipo2)\n",
    "    ganadores_cuartos.append(ganador)"
   ]
  },
  {
   "cell_type": "code",
   "execution_count": 113,
   "metadata": {},
   "outputs": [
    {
     "name": "stdout",
     "output_type": "stream",
     "text": [
      "Cuartos de Final:\n",
      "------------------------------\n",
      "Australia (86.87) vs Argentina (78.36) => Ganador: Australia\n",
      "Irland (96.82) vs New Zeland (88.56) => Ganador: Irland\n",
      "England (86.45) vs Fiji (79.28) => Ganador: England\n",
      "France (94.72) vs South Africa (91.08) => Ganador: France\n"
     ]
    }
   ],
   "source": [
    "print(\"Cuartos de Final:\")\n",
    "print(\"-\" * 30)\n",
    "for i, partido in enumerate(cuartos):\n",
    "    equipo_ganador = ganadores_cuartos[i]\n",
    "    print(f\"{partido[0]['pais']} ({partido[0]['score']}) vs {partido[1]['pais']} ({partido[1]['score']}) => Ganador: {equipo_ganador['pais']}\")"
   ]
  },
  {
   "cell_type": "code",
   "execution_count": 114,
   "metadata": {},
   "outputs": [],
   "source": [
    "semifinales = [\n",
    "    (ganadores_cuartos[0], ganadores_cuartos[1]),\n",
    "    (ganadores_cuartos[2], ganadores_cuartos[3])\n",
    "]\n",
    "\n",
    "ganadores_semifinales = []\n",
    "\n",
    "for partido in semifinales:\n",
    "    ganador = simular_partido(partido[0], partido[1])\n",
    "    ganadores_semifinales.append(ganador)"
   ]
  },
  {
   "cell_type": "code",
   "execution_count": 115,
   "metadata": {},
   "outputs": [
    {
     "name": "stdout",
     "output_type": "stream",
     "text": [
      "Semifinales\n",
      "------------------------------\n",
      "Australia vs Irland => Ganador: Irland\n",
      "England vs France => Ganador: France\n"
     ]
    }
   ],
   "source": [
    "print(\"Semifinales\")\n",
    "print(\"-\" * 30)\n",
    "for idx, partido in enumerate(semifinales):\n",
    "    equipo_ganador = ganadores_semifinales[idx]\n",
    "    print(f\"{partido[0]['pais']} vs {partido[1]['pais']} => Ganador: {equipo_ganador['pais']}\")"
   ]
  },
  {
   "cell_type": "code",
   "execution_count": 116,
   "metadata": {},
   "outputs": [],
   "source": [
    "perdedores_semifinal = [equipo for equipo in ganadores_cuartos if equipo['pais'] not in [ganador['pais'] for ganador in ganadores_semifinales]]\n",
    "tercer_puesto = (perdedores_semifinal[0], perdedores_semifinal[1])\n",
    "\n",
    "ganador_tercer_puesto = simular_partido(tercer_puesto[0], tercer_puesto[1])"
   ]
  },
  {
   "cell_type": "code",
   "execution_count": 117,
   "metadata": {},
   "outputs": [
    {
     "name": "stdout",
     "output_type": "stream",
     "text": [
      "Tercer Puesto\n",
      "------------------------------\n",
      "Australia vs England => Ganador: Australia\n"
     ]
    }
   ],
   "source": [
    "print(\"Tercer Puesto\")\n",
    "print(\"-\" * 30)\n",
    "print(f\"{perdedores_semifinal[0]['pais']} vs {perdedores_semifinal[1]['pais']} => Ganador: {ganador_tercer_puesto['pais']}\")"
   ]
  },
  {
   "cell_type": "code",
   "execution_count": 118,
   "metadata": {},
   "outputs": [],
   "source": [
    "final = (ganadores_semifinales[0], ganadores_semifinales[1])\n",
    "\n",
    "campeon = simular_partido(final[0], final[1])"
   ]
  },
  {
   "cell_type": "code",
   "execution_count": 122,
   "metadata": {},
   "outputs": [
    {
     "name": "stdout",
     "output_type": "stream",
     "text": [
      "Campeon de Rugby del Mundo 2023\n",
      "Final del Mundo => Irland vs France\n",
      "------------------------------\n",
      " CAMPEON DEL MUNDO => IRLAND (96.82)\n",
      "\n",
      "Segundo puesto\n",
      "------------------------------\n",
      "France\n"
     ]
    }
   ],
   "source": [
    "separador = \"-\" * 30\n",
    "\n",
    "print(\"Campeon de Rugby del Mundo 2023\")\n",
    "print(f\"Final del Mundo => {final[0]['pais']} vs {final[1]['pais']}\")\n",
    "print(separador)\n",
    "print(f\" CAMPEON DEL MUNDO => {campeon['pais'].upper()} ({campeon['score']})\")\n",
    "print()\n",
    "print(\"Segundo puesto\")\n",
    "print(separador)\n",
    "print(final[1]['pais'] if final[0]['pais'] == campeon['pais'] else final[0]['pais'])"
   ]
  }
 ],
 "metadata": {
  "kernelspec": {
   "display_name": "base",
   "language": "python",
   "name": "python3"
  },
  "language_info": {
   "codemirror_mode": {
    "name": "ipython",
    "version": 3
   },
   "file_extension": ".py",
   "mimetype": "text/x-python",
   "name": "python",
   "nbconvert_exporter": "python",
   "pygments_lexer": "ipython3",
   "version": "3.11.4"
  },
  "orig_nbformat": 4
 },
 "nbformat": 4,
 "nbformat_minor": 2
}
