{
 "cells": [
  {
   "cell_type": "markdown",
   "metadata": {},
   "source": [
    "# Analisis del mundial de rugby en etapa de zona"
   ]
  },
  {
   "cell_type": "code",
   "execution_count": 5,
   "metadata": {},
   "outputs": [],
   "source": [
    "import pandas as pd\n",
    "import csv"
   ]
  },
  {
   "cell_type": "code",
   "execution_count": 6,
   "metadata": {},
   "outputs": [],
   "source": [
    "# carga de datos\n",
    "def cargar_paises(archivo):\n",
    "    paises_participantes = []\n",
    "\n",
    "    with open(archivo, mode='r', newline='') as file:\n",
    "        reader = csv.DictReader(file)\n",
    "\n",
    "        for row in reader:\n",
    "            zona = row['zona']\n",
    "            pais = row['pais']\n",
    "            score = float(row['score'])\n",
    "\n",
    "            paises_participantes.append({\"zona\": zona, \"pais\": pais, \"score\": score})\n",
    "        \n",
    "        return paises_participantes"
   ]
  },
  {
   "cell_type": "code",
   "execution_count": 13,
   "metadata": {},
   "outputs": [
    {
     "name": "stdout",
     "output_type": "stream",
     "text": [
      "Pais: Irland, Score: 91.82,Zona: B\n",
      "Pais: South Africa, Score: 91.08,Zona: B\n",
      "Pais: France, Score: 89.22,Zona: A\n",
      "Pais: New Zeland, Score: 89.06,Zona: A\n",
      "Pais: Scotland, Score: 84.01,Zona: B\n",
      "Pais: Argentina, Score: 80.86,Zona: D\n",
      "Pais: Fiji, Score: 80.28,Zona: C\n",
      "Pais: England, Score: 79.95,Zona: D\n",
      "Pais: Australia, Score: 79.87,Zona: C\n",
      "Pais: Wales, Score: 78.26,Zona: C\n",
      "Pais: Georgia, Score: 76.23,Zona: C\n",
      "Pais: Samoa, Score: 76.19,Zona: D\n",
      "Pais: Italy, Score: 75.63,Zona: A\n",
      "Pais: Japon, Score: 73.29,Zona: D\n",
      "Pais: Tonga, Score: 70.29,Zona: B\n",
      "Pais: Portugal, Score: 68.61,Zona: C\n",
      "Pais: Uruguay, Score: 66.63,Zona: A\n",
      "Pais: Romania, Score: 64.56,Zona: B\n",
      "Pais: Namibia, Score: 61.61,Zona: A\n",
      "Pais: Chile, Score: 60.49,Zona: D\n"
     ]
    }
   ],
   "source": [
    "archivo = \"../data/paises.csv\"\n",
    "paises_participantes = cargar_paises(archivo)\n",
    "\n",
    "paises_ordenados = sorted(paises_participantes, key=lambda x: x[\"score\"], reverse=True)\n",
    "\n",
    "for pais in paises_ordenados:\n",
    "    print(f\"{pais['pais']}, Score: {pais['score']},Zona: {pais['zona']}\")"
   ]
  },
  {
   "cell_type": "markdown",
   "metadata": {},
   "source": [
    "## Lista de paises, ordenados por score"
   ]
  },
  {
   "cell_type": "code",
   "execution_count": null,
   "metadata": {},
   "outputs": [],
   "source": []
  },
  {
   "cell_type": "markdown",
   "metadata": {},
   "source": [
    "## Lista de paises, agrupados por zonas y ordenados por score"
   ]
  },
  {
   "cell_type": "markdown",
   "metadata": {},
   "source": [
    "## Lista de paises que posiblemente pasen de ronda segun score (los dos mejores de cada zona)"
   ]
  }
 ],
 "metadata": {
  "kernelspec": {
   "display_name": "base",
   "language": "python",
   "name": "python3"
  },
  "language_info": {
   "codemirror_mode": {
    "name": "ipython",
    "version": 3
   },
   "file_extension": ".py",
   "mimetype": "text/x-python",
   "name": "python",
   "nbconvert_exporter": "python",
   "pygments_lexer": "ipython3",
   "version": "3.11.4"
  },
  "orig_nbformat": 4
 },
 "nbformat": 4,
 "nbformat_minor": 2
}
