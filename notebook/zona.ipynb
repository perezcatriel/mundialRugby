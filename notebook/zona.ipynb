{
 "cells": [
  {
   "cell_type": "markdown",
   "metadata": {},
   "source": [
    "# Analisis del mundial de rugby en etapa de zona"
   ]
  },
  {
   "cell_type": "code",
   "execution_count": 5,
   "metadata": {},
   "outputs": [],
   "source": [
    "import pandas as pd\n",
    "import csv"
   ]
  },
  {
   "cell_type": "markdown",
   "metadata": {},
   "source": [
    "## Carga de Datos"
   ]
  },
  {
   "cell_type": "code",
   "execution_count": 37,
   "metadata": {},
   "outputs": [
    {
     "name": "stdout",
     "output_type": "stream",
     "text": [
      "[{'zona': 'A', 'pais': 'France', 'score': 89.22}, {'zona': 'A', 'pais': 'Italy', 'score': 75.63}, {'zona': 'A', 'pais': 'Namibia', 'score': 61.61}, {'zona': 'A', 'pais': 'Uruguay', 'score': 66.63}, {'zona': 'A', 'pais': 'New Zeland', 'score': 89.06}, {'zona': 'B', 'pais': 'Irland', 'score': 91.82}, {'zona': 'B', 'pais': 'Romania', 'score': 64.56}, {'zona': 'B', 'pais': 'Scotland', 'score': 84.01}, {'zona': 'B', 'pais': 'South Africa', 'score': 91.08}, {'zona': 'B', 'pais': 'Tonga', 'score': 70.29}, {'zona': 'C', 'pais': 'Australia', 'score': 79.87}, {'zona': 'C', 'pais': 'Fiji', 'score': 80.28}, {'zona': 'C', 'pais': 'Georgia', 'score': 76.23}, {'zona': 'C', 'pais': 'Portugal', 'score': 68.61}, {'zona': 'C', 'pais': 'Wales', 'score': 78.26}, {'zona': 'D', 'pais': 'Argentina', 'score': 80.86}, {'zona': 'D', 'pais': 'Chile', 'score': 60.49}, {'zona': 'D', 'pais': 'England', 'score': 79.95}, {'zona': 'D', 'pais': 'Japon', 'score': 73.29}, {'zona': 'D', 'pais': 'Samoa', 'score': 76.19}]\n"
     ]
    }
   ],
   "source": [
    "# carga de datos\n",
    "def cargar_paises(archivo):\n",
    "    paises_participantes = []\n",
    "\n",
    "    with open(archivo, mode='r', newline='') as file:\n",
    "        reader = csv.DictReader(file)\n",
    "\n",
    "        for row in reader:\n",
    "            zona = row['zona']\n",
    "            pais = row['pais']\n",
    "            score = float(row['score'])\n",
    "\n",
    "            paises_participantes.append({\"zona\": zona, \"pais\": pais, \"score\": score})\n",
    "        \n",
    "        return paises_participantes\n",
    "    \n",
    "archivo = \"../data/paises.csv\"\n",
    "paises_participantes = cargar_paises(archivo)"
   ]
  },
  {
   "cell_type": "markdown",
   "metadata": {},
   "source": [
    "## Lista de paises, ordenados por score"
   ]
  },
  {
   "cell_type": "code",
   "execution_count": 45,
   "metadata": {},
   "outputs": [],
   "source": [
    "def mostrar_paises_por_score(paises_participantes):\n",
    "    paises_ordenados = sorted(paises_participantes, key=lambda x: x[\"score\"], reverse=True)\n",
    "    lista_paises = []\n",
    "\n",
    "    for pais in paises_ordenados:\n",
    "        print(f\"{pais['pais']}, Score: {pais['score']}, Zona: {pais['zona']}\")\n",
    "        lista_paises.append({\"zona\": pais['zona'], \"pais\": {pais['pais']}, \"score\": {pais['score']}})\n",
    "    \n",
    "    return lista_paises"
   ]
  },
  {
   "cell_type": "code",
   "execution_count": 46,
   "metadata": {},
   "outputs": [
    {
     "name": "stdout",
     "output_type": "stream",
     "text": [
      "Irland, Score: 91.82, Zona: B\n",
      "South Africa, Score: 91.08, Zona: B\n",
      "France, Score: 89.22, Zona: A\n",
      "New Zeland, Score: 89.06, Zona: A\n",
      "Scotland, Score: 84.01, Zona: B\n",
      "Argentina, Score: 80.86, Zona: D\n",
      "Fiji, Score: 80.28, Zona: C\n",
      "England, Score: 79.95, Zona: D\n",
      "Australia, Score: 79.87, Zona: C\n",
      "Wales, Score: 78.26, Zona: C\n",
      "Georgia, Score: 76.23, Zona: C\n",
      "Samoa, Score: 76.19, Zona: D\n",
      "Italy, Score: 75.63, Zona: A\n",
      "Japon, Score: 73.29, Zona: D\n",
      "Tonga, Score: 70.29, Zona: B\n",
      "Portugal, Score: 68.61, Zona: C\n",
      "Uruguay, Score: 66.63, Zona: A\n",
      "Romania, Score: 64.56, Zona: B\n",
      "Namibia, Score: 61.61, Zona: A\n",
      "Chile, Score: 60.49, Zona: D\n"
     ]
    },
    {
     "data": {
      "text/plain": [
       "[{'zona': 'B', 'pais': {'Irland'}, 'score': {91.82}},\n",
       " {'zona': 'B', 'pais': {'South Africa'}, 'score': {91.08}},\n",
       " {'zona': 'A', 'pais': {'France'}, 'score': {89.22}},\n",
       " {'zona': 'A', 'pais': {'New Zeland'}, 'score': {89.06}},\n",
       " {'zona': 'B', 'pais': {'Scotland'}, 'score': {84.01}},\n",
       " {'zona': 'D', 'pais': {'Argentina'}, 'score': {80.86}},\n",
       " {'zona': 'C', 'pais': {'Fiji'}, 'score': {80.28}},\n",
       " {'zona': 'D', 'pais': {'England'}, 'score': {79.95}},\n",
       " {'zona': 'C', 'pais': {'Australia'}, 'score': {79.87}},\n",
       " {'zona': 'C', 'pais': {'Wales'}, 'score': {78.26}},\n",
       " {'zona': 'C', 'pais': {'Georgia'}, 'score': {76.23}},\n",
       " {'zona': 'D', 'pais': {'Samoa'}, 'score': {76.19}},\n",
       " {'zona': 'A', 'pais': {'Italy'}, 'score': {75.63}},\n",
       " {'zona': 'D', 'pais': {'Japon'}, 'score': {73.29}},\n",
       " {'zona': 'B', 'pais': {'Tonga'}, 'score': {70.29}},\n",
       " {'zona': 'C', 'pais': {'Portugal'}, 'score': {68.61}},\n",
       " {'zona': 'A', 'pais': {'Uruguay'}, 'score': {66.63}},\n",
       " {'zona': 'B', 'pais': {'Romania'}, 'score': {64.56}},\n",
       " {'zona': 'A', 'pais': {'Namibia'}, 'score': {61.61}},\n",
       " {'zona': 'D', 'pais': {'Chile'}, 'score': {60.49}}]"
      ]
     },
     "execution_count": 46,
     "metadata": {},
     "output_type": "execute_result"
    }
   ],
   "source": [
    "mostrar_paises_por_score(paises_participantes)"
   ]
  },
  {
   "cell_type": "markdown",
   "metadata": {},
   "source": [
    "# Top 5 de los mayores candidatos segun el score de la IRB antes de comenzar el mundial"
   ]
  },
  {
   "cell_type": "code",
   "execution_count": 81,
   "metadata": {},
   "outputs": [],
   "source": [
    "def obtener_top_paises(paises_participantes, n=5):\n",
    "    paises_ordenados = sorted(paises_participantes, key=lambda x: x['score'], reverse=True)\n",
    "\n",
    "    top_paises = paises_ordenados[:n]\n",
    "\n",
    "    return top_paises"
   ]
  },
  {
   "cell_type": "code",
   "execution_count": 82,
   "metadata": {},
   "outputs": [
    {
     "name": "stdout",
     "output_type": "stream",
     "text": [
      "Top 5 paises segun su score:\n",
      "1. Irland - Score: 91.82\n",
      "2. South Africa - Score: 91.08\n",
      "3. France - Score: 89.22\n",
      "4. New Zeland - Score: 89.06\n",
      "5. Scotland - Score: 84.01\n"
     ]
    }
   ],
   "source": [
    "top_5_paises = obtener_top_paises(paises_participantes, n=5)\n",
    "\n",
    "print(\"Top 5 paises segun su score:\")\n",
    "for idx, pais in enumerate(top_5_paises, start=1):\n",
    "    print(f\"{idx}. {pais['pais']} - Score: {pais['score']}\")"
   ]
  },
  {
   "cell_type": "markdown",
   "metadata": {},
   "source": [
    "## Lista de paises, agrupados por zonas y ordenados por score"
   ]
  },
  {
   "cell_type": "code",
   "execution_count": 43,
   "metadata": {},
   "outputs": [],
   "source": [
    "def mostrar_paises_por_zona(paises_participantes):\n",
    "    zonas = {}\n",
    "\n",
    "    for pais in paises_participantes:\n",
    "        zona = pais[\"zona\"]\n",
    "        if zona not in zonas:\n",
    "            zonas[zona] = []\n",
    "        zonas[zona].append(pais)\n",
    "\n",
    "    for zona, paises in zonas.items():\n",
    "        paises_ordenados = sorted(paises, key=lambda x: x[\"score\"], reverse=True)\n",
    "\n",
    "        print(f\"Zona {zona}\")\n",
    "        for pais in paises_ordenados:\n",
    "            print(f\"{pais['pais']}: {pais['score']} puntos\")"
   ]
  },
  {
   "cell_type": "code",
   "execution_count": 44,
   "metadata": {},
   "outputs": [
    {
     "name": "stdout",
     "output_type": "stream",
     "text": [
      "Zona A\n",
      "France: 89.22 puntos\n",
      "New Zeland: 89.06 puntos\n",
      "Italy: 75.63 puntos\n",
      "Uruguay: 66.63 puntos\n",
      "Namibia: 61.61 puntos\n",
      "Zona B\n",
      "Irland: 91.82 puntos\n",
      "South Africa: 91.08 puntos\n",
      "Scotland: 84.01 puntos\n",
      "Tonga: 70.29 puntos\n",
      "Romania: 64.56 puntos\n",
      "Zona C\n",
      "Fiji: 80.28 puntos\n",
      "Australia: 79.87 puntos\n",
      "Wales: 78.26 puntos\n",
      "Georgia: 76.23 puntos\n",
      "Portugal: 68.61 puntos\n",
      "Zona D\n",
      "Argentina: 80.86 puntos\n",
      "England: 79.95 puntos\n",
      "Samoa: 76.19 puntos\n",
      "Japon: 73.29 puntos\n",
      "Chile: 60.49 puntos\n"
     ]
    }
   ],
   "source": [
    "mostrar_paises_por_zona(paises_participantes)"
   ]
  },
  {
   "cell_type": "markdown",
   "metadata": {},
   "source": [
    "## Lista de paises que posiblemente pasen de ronda segun score (los dos mejores de cada zona)"
   ]
  },
  {
   "cell_type": "code",
   "execution_count": 52,
   "metadata": {},
   "outputs": [],
   "source": [
    "def mostrar_primeros_dos_paises_por_zona(paises_participantes):\n",
    "    zonas = {}\n",
    "\n",
    "    for pais in paises_participantes:\n",
    "        zona = pais[\"zona\"]\n",
    "        if zona not in zonas:\n",
    "            zonas[zona] = []\n",
    "        zonas[zona].append(pais)\n",
    "\n",
    "    for zona, paises in zonas.items():\n",
    "        paises_ordenados = sorted(paises, key=lambda x: x[\"score\"], reverse=True)\n",
    "\n",
    "        print(f\"Zonas {zona}\")\n",
    "        for pais in paises_ordenados[:2]:\n",
    "            print(f\"{pais['pais']}: {pais['score']} puntos\")"
   ]
  },
  {
   "cell_type": "code",
   "execution_count": 53,
   "metadata": {},
   "outputs": [
    {
     "name": "stdout",
     "output_type": "stream",
     "text": [
      "Zonas A\n",
      "France: 89.22 puntos\n",
      "New Zeland: 89.06 puntos\n",
      "Zonas B\n",
      "Irland: 91.82 puntos\n",
      "South Africa: 91.08 puntos\n",
      "Zonas C\n",
      "Fiji: 80.28 puntos\n",
      "Australia: 79.87 puntos\n",
      "Zonas D\n",
      "Argentina: 80.86 puntos\n",
      "England: 79.95 puntos\n"
     ]
    }
   ],
   "source": [
    "mostrar_primeros_dos_paises_por_zona(paises_participantes)"
   ]
  },
  {
   "cell_type": "markdown",
   "metadata": {},
   "source": [
    "## Promedio de cada zona segun el score"
   ]
  },
  {
   "cell_type": "code",
   "execution_count": 54,
   "metadata": {},
   "outputs": [],
   "source": [
    "def calcular_promedio_score_por_zona(paises_participantes):\n",
    "    zonas = {}\n",
    "\n",
    "    for pais in paises_participantes:\n",
    "        zona = pais['zona']\n",
    "        if zona not in zonas:\n",
    "            zonas[zona] = {\"scores\": [], \"promedio\": 0.0}\n",
    "        zonas[zona][\"scores\"].append(pais[\"score\"])\n",
    "\n",
    "    for zona, data in zonas.items():\n",
    "        scores = data[\"scores\"]\n",
    "        if scores:\n",
    "            promedio = sum(scores) / len(scores)\n",
    "            data[\"promedio\"] = promedio\n",
    "\n",
    "    return zonas"
   ]
  },
  {
   "cell_type": "code",
   "execution_count": 55,
   "metadata": {},
   "outputs": [
    {
     "name": "stdout",
     "output_type": "stream",
     "text": [
      "Zona A: promedio de Score = 76.43 puntos\n",
      "Zona B: promedio de Score = 80.35 puntos\n",
      "Zona C: promedio de Score = 76.65 puntos\n",
      "Zona D: promedio de Score = 74.16 puntos\n"
     ]
    }
   ],
   "source": [
    "promedio_por_zona = calcular_promedio_score_por_zona(paises_participantes)\n",
    "for zona, data in promedio_por_zona.items():\n",
    "    print(f\"Zona {zona}: promedio de Score = {data['promedio']:.2f} puntos\")"
   ]
  },
  {
   "cell_type": "markdown",
   "metadata": {},
   "source": [
    "## zonas mas variables a zonas mas parejas"
   ]
  },
  {
   "cell_type": "code",
   "execution_count": 71,
   "metadata": {},
   "outputs": [],
   "source": [
    "import statistics\n",
    "\n",
    "def calcular_varianza_zonas(paises_participantes):\n",
    "    zonas = {}\n",
    "\n",
    "    for pais in paises_participantes:\n",
    "        zona = pais[\"zona\"]\n",
    "        score = pais[\"score\"]\n",
    "        if zona not in zonas:\n",
    "            zonas[zona] = []\n",
    "        zonas[zona].append(score)\n",
    "\n",
    "    varianzas = {}\n",
    "    for zona, scores in zonas.items():\n",
    "        varianza = statistics.variance(scores)\n",
    "        varianzas[zona] = varianza\n",
    "\n",
    "    zonas_ordenadas = sorted(varianzas.items(), key=lambda x: x[1], reverse=True)\n",
    "\n",
    "    return zonas_ordenadas"
   ]
  },
  {
   "cell_type": "code",
   "execution_count": 77,
   "metadata": {},
   "outputs": [
    {
     "name": "stdout",
     "output_type": "stream",
     "text": [
      "Zonas ordenadas por varianza de mayor a menor:\n",
      "Zona A: Varianza = 159.85\n",
      "Zona B: Varianza = 152.65\n",
      "Zona D: Varianza = 67.54\n",
      "Zona C: Varianza = 22.74\n"
     ]
    }
   ],
   "source": [
    "zonas_con_varianzas = calcular_varianza_zonas(paises_participantes)\n",
    "\n",
    "print(\"Zonas ordenadas por varianza de mayor a menor:\")\n",
    "for zona, varianza in zonas_con_varianzas:\n",
    "    print(f\"Zona {zona}: Varianza = {round(varianza, 2)}\")"
   ]
  },
  {
   "cell_type": "markdown",
   "metadata": {},
   "source": [
    "## zona mas dificil a zona mas facil"
   ]
  },
  {
   "cell_type": "code",
   "execution_count": 79,
   "metadata": {},
   "outputs": [],
   "source": [
    "def calcular_dificultad_zonas(paises_participantes):\n",
    "    zonas = {}\n",
    "\n",
    "    for pais in paises_participantes:\n",
    "        zona = pais[\"zona\"]\n",
    "        score = pais[\"score\"]\n",
    "\n",
    "        if zona not in zonas:\n",
    "            zonas[zona] = {\"scores\": [], \"promedio\": 0.0, \"inversa_varianza\": 0.0}\n",
    "\n",
    "        zonas[zona][\"scores\"].append(score)\n",
    "\n",
    "    for zona, datos_zona in zonas.items():\n",
    "        scores = datos_zona[\"scores\"]\n",
    "\n",
    "        if len(scores) > 0:\n",
    "            promedio = sum(scores) / len(scores)\n",
    "            varianza = statistics.variance(scores)\n",
    "            inversa_varianza = 1 / varianza if varianza > 0 else 0\n",
    "\n",
    "            datos_zona[\"promedio\"] = promedio\n",
    "            datos_zona[\"inversa_varianza\"] = inversa_varianza\n",
    "    \n",
    "    zonas_ordenadas = sorted(\n",
    "        zonas.items(),\n",
    "        key=lambda x: (x[1][\"promedio\"], -x[1][\"inversa_varianza\"]),\n",
    "        reverse=True\n",
    "    )\n",
    "\n",
    "    return zonas_ordenadas"
   ]
  },
  {
   "cell_type": "code",
   "execution_count": 80,
   "metadata": {},
   "outputs": [
    {
     "name": "stdout",
     "output_type": "stream",
     "text": [
      "Zonas ordenadas por dificultad (mayor promedio y menor inversa de varianza): \n",
      "Zona B: Promedio = 80.352, Inversa de Varianza = 0.006550750267254238\n",
      "Zona C: Promedio = 76.65, Inversa de Varianza = 0.04397759781167471\n",
      "Zona A: Promedio = 76.42999999999999, Inversa de Varianza = 0.006255733770984467\n",
      "Zona D: Promedio = 74.156, Inversa de Varianza = 0.014806001405385655\n"
     ]
    }
   ],
   "source": [
    "zonas_dificultad = calcular_dificultad_zonas(paises_participantes)\n",
    "\n",
    "print(\"Zonas ordenadas por dificultad (mayor promedio y menor inversa de varianza): \")\n",
    "for zona, datos_zona in zonas_dificultad:\n",
    "    print(f\"Zona {zona}: Promedio = {datos_zona['promedio']}, Inversa de Varianza = {datos_zona['inversa_varianza']}\")"
   ]
  }
 ],
 "metadata": {
  "kernelspec": {
   "display_name": "base",
   "language": "python",
   "name": "python3"
  },
  "language_info": {
   "codemirror_mode": {
    "name": "ipython",
    "version": 3
   },
   "file_extension": ".py",
   "mimetype": "text/x-python",
   "name": "python",
   "nbconvert_exporter": "python",
   "pygments_lexer": "ipython3",
   "version": "3.11.4"
  },
  "orig_nbformat": 4
 },
 "nbformat": 4,
 "nbformat_minor": 2
}
